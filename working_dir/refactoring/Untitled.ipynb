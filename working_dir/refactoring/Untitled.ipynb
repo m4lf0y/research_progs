{
 "cells": [
  {
   "cell_type": "code",
   "execution_count": 82,
   "metadata": {
    "collapsed": false
   },
   "outputs": [
    {
     "name": "stdout",
     "output_type": "stream",
     "text": [
      "The pep8magic extension is already loaded. To reload it, use:\n",
      "  %reload_ext pep8magic\n"
     ]
    }
   ],
   "source": [
    "%load_ext pep8magic"
   ]
  },
  {
   "cell_type": "code",
   "execution_count": 83,
   "metadata": {
    "collapsed": true
   },
   "outputs": [],
   "source": [
    "import pyproj\n",
    "import numpy as np"
   ]
  },
  {
   "cell_type": "markdown",
   "metadata": {},
   "source": [
    ">import libraries"
   ]
  },
  {
   "cell_type": "code",
   "execution_count": 110,
   "metadata": {
    "collapsed": false
   },
   "outputs": [],
   "source": [
    "def actual_position(data):\n",
    "    if data == 'm_dev44.rim':\n",
    "        lat = 37.525171\n",
    "        lon = 139.938322\n",
    "    elif data == 'm_dev2.rim':\n",
    "        lat = 37.52527\n",
    "        lon = 139.939093\n",
    "    elif data == '1_dev34.rim' or data == '1_dev16.rim':\n",
    "        lat = 37.525308\n",
    "        lon = 139.937960\n",
    "    elif data == '1_dev33.rim':\n",
    "        lat = 37.525275\n",
    "        lon = 139.937851\n",
    "    elif data == '2_dec23.rim':\n",
    "        lat = 37.525382\n",
    "        lon = 139.937911\n",
    "    elif data == '4_dev8.rim' or data == '5_dev15.rim':\n",
    "        lat = 37.525295\n",
    "        lon = 139.938999\n",
    "    elif data == '4_dev9.rim' or data == '5_dev16.rim':\n",
    "        lat = 37.525355\n",
    "        lon = 139.938932\n",
    "    elif data == '67_dev2.rim':\n",
    "        lat = 37.525295\n",
    "        lon = 139.939094\n",
    "    elif data == '67_dev1.rim':\n",
    "        lat = 37.525310\n",
    "        lon = 139.939045\n",
    "    elif data == '8_dev2.rim':\n",
    "        lat = 37.525522\n",
    "        lon = 139.939111\n",
    "    elif data == '8_dev1.rim':\n",
    "        lat = 37.525471\n",
    "        lon = 139.939047\n",
    "    elif data == '116_devA4.rim' or data == '116_devB4.rim' or data == '116_devA4_2.rim' or data == '116_devB4_2.rim':\n",
    "        lat = 37.525310\n",
    "        lon = 139.937839\n",
    "\n",
    "    return lat, lon"
   ]
  },
  {
   "cell_type": "markdown",
   "metadata": {},
   "source": [
    ">　使用するテストデータに対応する実際の位置情報を返す関数"
   ]
  },
  {
   "cell_type": "code",
   "execution_count": 103,
   "metadata": {
    "collapsed": false
   },
   "outputs": [],
   "source": [
    "input_data = 'device/67_dev1.rim'\n",
    "\n",
    "actual_lat,actual_lon = actual_position(input_data[7:])"
   ]
  },
  {
   "cell_type": "markdown",
   "metadata": {},
   "source": [
    ">使用するテストデータのファイル名と、その位置情報を設定"
   ]
  },
  {
   "cell_type": "code",
   "execution_count": 86,
   "metadata": {
    "collapsed": false
   },
   "outputs": [
    {
     "data": {
      "text/html": [
       "<div>\n",
       "<table border=\"1\" class=\"dataframe\">\n",
       "  <thead>\n",
       "    <tr style=\"text-align: right;\">\n",
       "      <th></th>\n",
       "      <th>#B4:CE:F6:09:A4:41</th>\n",
       "    </tr>\n",
       "  </thead>\n",
       "  <tbody>\n",
       "    <tr>\n",
       "      <th>0</th>\n",
       "      <td>37.525292 139.938952 -65</td>\n",
       "    </tr>\n",
       "    <tr>\n",
       "      <th>1</th>\n",
       "      <td>37.525292 139.938952 -65</td>\n",
       "    </tr>\n",
       "    <tr>\n",
       "      <th>2</th>\n",
       "      <td>37.525292 139.938952 -65</td>\n",
       "    </tr>\n",
       "    <tr>\n",
       "      <th>3</th>\n",
       "      <td>37.525292 139.938952 -63</td>\n",
       "    </tr>\n",
       "    <tr>\n",
       "      <th>4</th>\n",
       "      <td>37.525290 139.938952 -75</td>\n",
       "    </tr>\n",
       "  </tbody>\n",
       "</table>\n",
       "</div>"
      ],
      "text/plain": [
       "         #B4:CE:F6:09:A4:41\n",
       "0  37.525292 139.938952 -65\n",
       "1  37.525292 139.938952 -65\n",
       "2  37.525292 139.938952 -65\n",
       "3  37.525292 139.938952 -63\n",
       "4  37.525290 139.938952 -75"
      ]
     },
     "execution_count": 86,
     "metadata": {},
     "output_type": "execute_result"
    }
   ],
   "source": [
    "import pandas as pd\n",
    "\n",
    "df_datas = pd.read_csv(input_data)\n",
    "df_datas.head()"
   ]
  },
  {
   "cell_type": "markdown",
   "metadata": {},
   "source": [
    ">データの確認\n",
    ">\n",
    ">※ ここではデータ内容の確認にpandasを用いているが、実際にプログラム上でpandasは使用しない。"
   ]
  },
  {
   "cell_type": "code",
   "execution_count": 87,
   "metadata": {
    "collapsed": false
   },
   "outputs": [],
   "source": [
    "def gps_to_xy(lon, lat):  # Convert the GPSs to xy\n",
    "    EPSG4612 = pyproj.Proj(\"+init=EPSG:4612\")  # http://sanvarie.hatenablog.com/entry/2016/01/04/170242\n",
    "    EPSG2451 = pyproj.Proj(\"+init=EPSG:2451\")  # Japan - zone-9 http://d.hatena.ne.jp/tmizu23/20091215/1260868350\n",
    "    y, x = pyproj.transform(EPSG4612, EPSG2451, lon, lat)\n",
    "    return x, y"
   ]
  },
  {
   "cell_type": "markdown",
   "metadata": {},
   "source": [
    ">gpsデータを ユークリッド平面へ変換する関数"
   ]
  },
  {
   "cell_type": "code",
   "execution_count": 88,
   "metadata": {
    "collapsed": false
   },
   "outputs": [
    {
     "name": "stdout",
     "output_type": "stream",
     "text": [
      "x = 169254.876723  y = 9335.2942796  rssi = -65.0\n"
     ]
    }
   ],
   "source": [
    "lon_x = np.array([])\n",
    "lat_y = np.array([])\n",
    "rssi = np.array([])\n",
    "\n",
    "for line in open(input_data,\"r\"):\n",
    "    if line[0]==\"#\":\n",
    "        continue\n",
    "    data = line.split()\n",
    "    x, y = gps_to_xy(float(data2[1]),float(data[0]))\n",
    "    lon_x = np.append(lon_x,x)\n",
    "    lat_y = np.append(lat_y,y)\n",
    "    rssi = np.append(rssi,float(data[2]))\n",
    "\n",
    "print(\"x =\", lon_x[0], \" y =\", lat_y[0], \" rssi =\", rssi[0])"
   ]
  },
  {
   "cell_type": "markdown",
   "metadata": {},
   "source": [
    ">データの準備と、gpsデータの変換"
   ]
  },
  {
   "cell_type": "code",
   "execution_count": null,
   "metadata": {
    "collapsed": true
   },
   "outputs": [],
   "source": []
  },
  {
   "cell_type": "code",
   "execution_count": null,
   "metadata": {
    "collapsed": true
   },
   "outputs": [],
   "source": []
  }
 ],
 "metadata": {
  "anaconda-cloud": {},
  "kernelspec": {
   "display_name": "Python [conda root]",
   "language": "python",
   "name": "conda-root-py"
  },
  "language_info": {
   "codemirror_mode": {
    "name": "ipython",
    "version": 3
   },
   "file_extension": ".py",
   "mimetype": "text/x-python",
   "name": "python",
   "nbconvert_exporter": "python",
   "pygments_lexer": "ipython3",
   "version": "3.5.2"
  }
 },
 "nbformat": 4,
 "nbformat_minor": 1
}
