{
 "cells": [
  {
   "cell_type": "code",
   "execution_count": 24,
   "metadata": {
    "collapsed": false
   },
   "outputs": [
    {
     "name": "stdout",
     "output_type": "stream",
     "text": [
      "The pep8magic extension is already loaded. To reload it, use:\n",
      "  %reload_ext pep8magic\n"
     ]
    }
   ],
   "source": [
    "%load_ext pep8magic"
   ]
  },
  {
   "cell_type": "code",
   "execution_count": 25,
   "metadata": {
    "collapsed": false
   },
   "outputs": [],
   "source": [
    "input_data = 'device/67_dev1.rim'"
   ]
  },
  {
   "cell_type": "code",
   "execution_count": 28,
   "metadata": {
    "collapsed": false
   },
   "outputs": [
    {
     "data": {
      "text/html": [
       "<div>\n",
       "<table border=\"1\" class=\"dataframe\">\n",
       "  <thead>\n",
       "    <tr style=\"text-align: right;\">\n",
       "      <th></th>\n",
       "      <th>#B4:CE:F6:09:A4:41</th>\n",
       "    </tr>\n",
       "  </thead>\n",
       "  <tbody>\n",
       "    <tr>\n",
       "      <th>0</th>\n",
       "      <td>37.525292 139.938952 -65</td>\n",
       "    </tr>\n",
       "    <tr>\n",
       "      <th>1</th>\n",
       "      <td>37.525292 139.938952 -65</td>\n",
       "    </tr>\n",
       "    <tr>\n",
       "      <th>2</th>\n",
       "      <td>37.525292 139.938952 -65</td>\n",
       "    </tr>\n",
       "    <tr>\n",
       "      <th>3</th>\n",
       "      <td>37.525292 139.938952 -63</td>\n",
       "    </tr>\n",
       "    <tr>\n",
       "      <th>4</th>\n",
       "      <td>37.525290 139.938952 -75</td>\n",
       "    </tr>\n",
       "  </tbody>\n",
       "</table>\n",
       "</div>"
      ],
      "text/plain": [
       "         #B4:CE:F6:09:A4:41\n",
       "0  37.525292 139.938952 -65\n",
       "1  37.525292 139.938952 -65\n",
       "2  37.525292 139.938952 -65\n",
       "3  37.525292 139.938952 -63\n",
       "4  37.525290 139.938952 -75"
      ]
     },
     "execution_count": 28,
     "metadata": {},
     "output_type": "execute_result"
    }
   ],
   "source": [
    "import pandas as pd\n",
    "\n",
    "df_datas = pd.read_csv(input_data)\n",
    "df_datas.head()"
   ]
  },
  {
   "cell_type": "markdown",
   "metadata": {},
   "source": [
    "データの確認\n",
    "※ ここではデータ内容の確認にpandasを用いているが、実際にプログラム上でpandasは使用しない。"
   ]
  },
  {
   "cell_type": "code",
   "execution_count": 27,
   "metadata": {
    "collapsed": true
   },
   "outputs": [],
   "source": [
    "def devtext_to_list(): #Text(dev00.rim) to np.array\n",
    "    for line in open(devtext,\"r\"):\n",
    "        if line[0]==\"#\":\n",
    "            continue\n",
    "        data = line.split()\n",
    "        print(data[0])\n",
    "        global rim_lat_y,rim_lon_x,rssi\n",
    "        x,y = gps_to_xy(float(data[1]),float(data[0]))\n",
    "        rim_lat_y = np.append(rim_lat_y,y)\n",
    "        rim_lon_x = np.append(rim_lon_x,x)\n",
    "        rssi = np.append(rssi,float(data[2]))"
   ]
  },
  {
   "cell_type": "code",
   "execution_count": null,
   "metadata": {
    "collapsed": true
   },
   "outputs": [],
   "source": []
  }
 ],
 "metadata": {
  "anaconda-cloud": {},
  "kernelspec": {
   "display_name": "Python [conda root]",
   "language": "python",
   "name": "conda-root-py"
  },
  "language_info": {
   "codemirror_mode": {
    "name": "ipython",
    "version": 3
   },
   "file_extension": ".py",
   "mimetype": "text/x-python",
   "name": "python",
   "nbconvert_exporter": "python",
   "pygments_lexer": "ipython3",
   "version": "3.5.2"
  }
 },
 "nbformat": 4,
 "nbformat_minor": 1
}
